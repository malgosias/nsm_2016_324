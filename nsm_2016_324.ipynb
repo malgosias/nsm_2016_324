{
 "cells": [
  {
   "cell_type": "markdown",
   "metadata": {},
   "source": [
    "# Normal Sun Mode 2016:324 analysis"
   ]
  },
  {
   "cell_type": "markdown",
   "metadata": {},
   "source": [
    "### __Content__"
   ]
  },
  {
   "cell_type": "markdown",
   "metadata": {},
   "source": [
    "1. __Star acquisition before entering the NSM__\n",
    "\n",
    "1. __Attitude offset from the planned direction__"
   ]
  },
  {
   "cell_type": "markdown",
   "metadata": {},
   "source": [
    "### __Summary__\n",
    "\n",
    "* At the start of the 324:20:20z comm Chandra was observed to be in Normal Sun Mode. The OBC error-log dump indicated the NSM entry occurred at 12:59:32z, DOY 324."
   ]
  },
  {
   "cell_type": "code",
   "execution_count": 1,
   "metadata": {
    "collapsed": false
   },
   "outputs": [],
   "source": [
    "%matplotlib inline\n",
    "import numpy as np\n",
    "import matplotlib.pylab as plt\n",
    "from astropy.table import Table\n",
    "from astropy.io import ascii\n",
    "import astropy.units as u\n",
    "import Ska.engarchive.fetch as fetch\n",
    "import Ska.quatutil as quatutil\n",
    "from Ska.Matplotlib import plot_cxctime\n",
    "from Chandra.Time import DateTime\n",
    "from chandra_aca.plot import plot_stars\n",
    "from Quaternion import Quat\n",
    "from kadi import events\n",
    "from itertools import izip, count\n",
    "import agasc"
   ]
  },
  {
   "cell_type": "markdown",
   "metadata": {},
   "source": [
    "### 1. Star acquisition before entering the NSM"
   ]
  },
  {
   "cell_type": "markdown",
   "metadata": {},
   "source": [
    "At 2016:234:12:56:57 (~2 min before NSM) Chandra acquired 6 stars."
   ]
  },
  {
   "cell_type": "markdown",
   "metadata": {},
   "source": [
    "<img src='NSM_2016_324_12_56_58.png'>"
   ]
  },
  {
   "cell_type": "markdown",
   "metadata": {},
   "source": [
    "Below there is a sequence of events that happened over the next ~2-3 min. At ~2016:234:12:58:30 there were no stars acquired in any of the slots."
   ]
  },
  {
   "cell_type": "markdown",
   "metadata": {},
   "source": [
    "<img src='NSM_2016_324_12_57_01.png'>"
   ]
  },
  {
   "cell_type": "markdown",
   "metadata": {},
   "source": [
    "<img src='NSM_2016_324_12_57_06.png'>"
   ]
  },
  {
   "cell_type": "markdown",
   "metadata": {},
   "source": [
    "<img src='NSM_2016_324_12_57_19.png'>"
   ]
  },
  {
   "cell_type": "markdown",
   "metadata": {},
   "source": [
    "A snapshot of ACA slots immediately before the NSM:"
   ]
  },
  {
   "cell_type": "markdown",
   "metadata": {},
   "source": [
    "<img src='NSM_2016_324_12_59_42.png'>"
   ]
  },
  {
   "cell_type": "code",
   "execution_count": 2,
   "metadata": {
    "collapsed": true
   },
   "outputs": [],
   "source": [
    "# Approximate time of the star acquisition before the BSH\n",
    "tstart = '2016:324:12:54:00.000'\n",
    "tstop = '2016:324:13:00:00.000'"
   ]
  },
  {
   "cell_type": "code",
   "execution_count": 3,
   "metadata": {
    "collapsed": true
   },
   "outputs": [],
   "source": [
    "keys = ['aoacmag', 'aoacyan', 'aoaczan']\n",
    "slots = range(8)"
   ]
  },
  {
   "cell_type": "code",
   "execution_count": 4,
   "metadata": {
    "collapsed": false
   },
   "outputs": [],
   "source": [
    "def get_telem(slots, tstart, tstop):\n",
    "    msids = []\n",
    "    for slot in slots:\n",
    "        for key in keys:\n",
    "            msids.append(key + '{}'.format(slot))\n",
    "    telem = fetch.MSIDset(msids, start=DateTime(tstart).date, stop=DateTime(tstop).date)\n",
    "    return telem"
   ]
  },
  {
   "cell_type": "code",
   "execution_count": 5,
   "metadata": {
    "collapsed": false
   },
   "outputs": [],
   "source": [
    "telem = get_telem(slots, tstart, tstop)"
   ]
  },
  {
   "cell_type": "code",
   "execution_count": 6,
   "metadata": {
    "collapsed": false
   },
   "outputs": [],
   "source": [
    "doy = '2016:324'\n",
    "\n",
    "# Time ranges for which the mean values are computed, vertical dashed lines\n",
    "#slot_mean_times = {'start0': ['12:55:30'], 'stop0': ['12:56:47'],\n",
    "#                   'start1': ['12:57:06'], 'stop1': ['12:58:20'],\n",
    "#                   'start2': ['12:55:15'], 'stop2': ['12:56:50'],\n",
    "#                   'start3': ['12:55:17'], 'stop3': ['12:57:07'],\n",
    "#                   'start4': ['12:55:17'], 'stop4': ['12:57:07'],\n",
    "#                   'start5': ['12:55:30'], 'stop5': ['12:57:07'],\n",
    "#                   'start6': ['12:59:02'], 'stop6': ['12:59:37'],\n",
    "#                   'start7': ['12:54:57'], 'stop7': ['12:56:50'],\n",
    "#                   }\n",
    "\n",
    "slot_mean_times = {'start0': ['12:55:30', '12:59:00'], 'stop0': ['12:56:47', '12:59:35'],\n",
    "                   'start1': ['12:57:06', '12:59:00'], 'stop1': ['12:58:20', '12:59:35'],\n",
    "                   'start2': ['12:55:15', '12:59:00'], 'stop2': ['12:56:50', '12:59:35'],\n",
    "                   'start3': ['12:55:17', '12:55:17'], 'stop3': ['12:57:07', '12:57:07'],\n",
    "                   'start4': ['12:55:17', '12:59:00'], 'stop4': ['12:57:07', '12:59:35'],\n",
    "                   'start5': ['12:55:30', '12:59:00'], 'stop5': ['12:57:07', '12:59:35'],\n",
    "                   'start6': ['12:59:00', '12:59:00'], 'stop6': ['12:59:35', '12:59:35'],\n",
    "                   'start7': ['12:54:57', '12:59:00'], 'stop7': ['12:56:50', '12:59:35'],\n",
    "                   }"
   ]
  },
  {
   "cell_type": "code",
   "execution_count": null,
   "metadata": {
    "collapsed": false
   },
   "outputs": [],
   "source": [
    "averages = []\n",
    "rows = []\n",
    "for slot in slots:\n",
    "    for tt in [0, 1]:\n",
    "        row = {}\n",
    "        start = '{}:{}.000'.format(doy, slot_mean_times['start{}'.format(slot)][tt])\n",
    "        stop = '{}:{}.000'.format(doy, slot_mean_times['stop{}'.format(slot)][tt])\n",
    "        plt.figure(figsize=(12, 4))\n",
    "        for index, key in enumerate(keys):\n",
    "            msid = key + '{}'.format(slot)\n",
    "            times_mean = (telem[msid].times > DateTime(start).secs) & \\\n",
    "                         (telem[msid].times < DateTime(stop).secs)\n",
    "            row['slot'] = slot\n",
    "            average = telem[msid].vals[times_mean].mean()\n",
    "            row[key] = average\n",
    "            averages.append(average) \n",
    "            # Plot\n",
    "            plt.subplot(1, 3, index + 1)\n",
    "            plot_cxctime(telem[msid].times, telem[msid].vals)\n",
    "            plt.ylabel(msid)\n",
    "            plt.xlabel(\"Time\")\n",
    "            plt.title(\"Av: {0:0f}\".format(average))\n",
    "            plt.vlines(DateTime([start, stop]).plotdate, plt.ylim()[0], plt.ylim()[1],\n",
    "                       color='gray', linestyle='dashed')\n",
    "        \n",
    "        plt.subplots_adjust(left=0.05, bottom=0.2, right=0.99, top=0.9, wspace=0.4)\n",
    "    \n",
    "        rows.append(row)"
   ]
  },
  {
   "cell_type": "code",
   "execution_count": null,
   "metadata": {
    "collapsed": false
   },
   "outputs": [],
   "source": [
    "t = Table(rows)\n",
    "\n",
    "print t['slot', 'aoacyan', 'aoaczan', 'aoacmag' ]"
   ]
  },
  {
   "cell_type": "markdown",
   "metadata": {},
   "source": [
    "### 2. Attitude offset from the planned direction"
   ]
  },
  {
   "cell_type": "code",
   "execution_count": null,
   "metadata": {
    "collapsed": true
   },
   "outputs": [],
   "source": [
    "#http://kadi.cfa.harvard.edu/find_attitude/\n",
    "#\n",
    "# Take the second entry for each slot (except slot 3, ignore slot 3)\n",
    "#\n",
    "#slot yag zag mag\n",
    "#0 -897.169852941 -2288.04632353 8.81066\n",
    "#1  27.0411764706 -73.8066176471    6.25\n",
    "#2  1105.25955882 -197.363970588  8.3125\n",
    "#4  924.227941176  1471.50661765 8.68382\n",
    "#5 -364.429411765 -2427.57867647 8.62132\n",
    "#6 -2187.49485294 -1412.83602941    6.75\n",
    "#7 -1889.43455882  690.722794118 8.89154\n",
    "#\n",
    "#Attitude solution\n",
    "#\n",
    "#RA=79.0593754872\n",
    "#Dec=34.2952547304\n",
    "#Roll=121.99536912\n",
    "#\n",
    "#Q1=0.735572563702\n",
    "#Q2=0.421663082603\n",
    "#Q3=0.493763651037\n",
    "#Q4=0.193211555588\n",
    "#\n",
    "#  \n",
    "# Star match summary and residuals \n",
    "#\n",
    "#slot      YAG            ZAG       MAG_ACA  m_yag     dy   m_zag     dz   dr  m_agasc_id\n",
    "#---- -------------- -------------- ------- -------- ----- -------- ----- ---- ----------\n",
    "#   0 -897.169852941 -2288.04632353 8.81066  -897.68  0.51 -2288.50  0.46 0.68  314322792\n",
    "#   1  27.0411764706 -73.8066176471    6.25    27.17 -0.13   -73.85  0.05 0.14  314317808\n",
    "#   2  1105.25955882 -197.363970588  8.3125  1105.52 -0.26  -197.33 -0.03 0.26  314313576\n",
    "#   4  924.227941176  1471.50661765 8.68382   924.66 -0.43  1472.13 -0.62 0.75  314189096\n",
    "#   5 -364.429411765 -2427.57867647 8.62132  -364.31 -0.12 -2427.70  0.12 0.17  314317160\n",
    "#   6 -2187.49485294 -1412.83602941    6.75 -2187.51  0.01 -1413.03  0.20 0.20  314318832\n",
    "#   7 -1889.43455882  690.722794118 8.89154 -1889.85  0.41   690.89 -0.17 0.45  313800960\n",
    "\n",
    "# true attitude estimated based on the stars available before the BSH\n",
    "RA_true = 79.0593754872\n",
    "DEC_true = 34.2952547304\n",
    "ROLL_true = 121.99536912\n",
    "q_true = Quat((RA_true, DEC_true, ROLL_true))"
   ]
  },
  {
   "cell_type": "code",
   "execution_count": null,
   "metadata": {
    "collapsed": false,
    "scrolled": false
   },
   "outputs": [],
   "source": [
    "av = np.array(averages).reshape(3, 16, order='F')\n",
    "\n",
    "# ra, dec of the stars acquired before the BSH\n",
    "yag = (av[1] * u.arcsec).to(\"deg\").value\n",
    "zag = (av[2] * u.arcsec).to(\"deg\").value\n",
    "# using quat corresponding to the true attitute\n",
    "ra, dec = quatutil.yagzag2radec(yag, zag, q_true)\n",
    "\n",
    "# search radius\n",
    "radius = (100. * u.arcsec).to('deg').value\n",
    "\n",
    "for idx in range(8):\n",
    "    cat = agasc.agasc.get_agasc_cone(ra=ra[idx], dec=dec[idx], radius=radius, date='2016:324')\n",
    "    print 'Slot {}, magn = {:.3f}, yag = {:.0f}, zag = {:.0f}'.format(idx,\n",
    "                                                                      av[0][idx],\n",
    "                                                                      av[1][idx],\n",
    "                                                                      av[2][idx])\n",
    "    if len(cat)==0:\n",
    "        print\n",
    "        continue\n",
    "    dists = []\n",
    "    for cc in cat:\n",
    "        dist = (agasc.agasc.sphere_dist(ra[idx], dec[idx],\n",
    "                                        cc['RA'], cc['DEC']) * u.deg).to('arcsec')\n",
    "        dists.append(dist.value)\n",
    "    cat['DIST'] = dists\n",
    "    cat['DIST'].format = '%.1f'\n",
    "    print cat['AGASC_ID', 'RA', 'DEC', 'MAG_ACA', 'DIST']\n",
    "    print"
   ]
  },
  {
   "cell_type": "code",
   "execution_count": null,
   "metadata": {
    "collapsed": false
   },
   "outputs": [],
   "source": [
    "#https://icxc.harvard.edu/mp/mplogs/2016/NOV1416/oflsa/starcheck.html#obsid19942\n",
    "#OBSID: 19942  Ae Aur                 ACIS-I SIM Z offset:1920  (4.83mm) Grating: NONE \n",
    "#RA, Dec, Roll (deg):    79.115987    34.287170   121.977376\n",
    "#Dither: ON  Y_amp= 8.0  Z_amp= 8.0  Y_period=1000.0  Z_period= 707.1\n",
    "#  Q1,Q2,Q3,Q4: 0.73532705  0.42198566  0.49388627  0.19312839\n",
    "#  MANVR: Angle=  95.01 deg  Duration= 1927 sec  Slew err= 59.5 arcsec\n",
    "starcheck_catalog_dat = \"\"\"\n",
    "idx slot   id      type size   mag     maxmag yang   zang  sz what halfw\n",
    " 1  0           1   FID  8x8   7.000   8.000    919   -744   1   1   25          \n",
    " 2  1           5   FID  8x8   7.000   8.000  -1828   1153   1   1   25          \n",
    " 3  2           6   FID  8x8   7.000   8.000    385   1797   1   1   25          \n",
    " 4  3   314186320   BOT  6x6   9.048  10.547   1321   2055  13   1   85          \n",
    " 5  4   314189096   BOT  6x6   8.793  10.297   1039   1599  20   1  120          \n",
    " 6  5   314317160   BOT  6x6   8.693  10.203   -250  -2300  20   1  120          \n",
    " 7  6   314318832   BOT  6x6   6.755   8.266  -2073  -1284  20   1  120\n",
    " 8  7   314321208   GUI  6x6   7.923   9.594  -2095  -1203   1   1   25          \n",
    " 9  7   313800960   ACQ  6x6   8.921  10.422  -1775    818  20   1  120          \n",
    "10  0   314322792   ACQ  6x6   9.048  10.547   -784  -2160  20   1  120          \n",
    "11  1   314317808   ACQ  6x6   6.298   7.797    141     53  20   1  120  \n",
    "12  2   314313576   ACQ  6x6   8.440   9.938   1219    -70  20   1  120 \n",
    "\"\"\"\n",
    "starcheck_catalog = ascii.read(starcheck_catalog_dat)\n",
    "\n",
    "# planned attitude\n",
    "RA_plan = 79.115987\n",
    "DEC_plan = 34.287170\n",
    "ROLL_plan = 121.977376\n",
    "q_plan = Quat((RA_plan, DEC_plan, ROLL_plan))"
   ]
  },
  {
   "cell_type": "code",
   "execution_count": null,
   "metadata": {
    "collapsed": false
   },
   "outputs": [],
   "source": [
    "offset = (agasc.agasc.sphere_dist(RA_true, DEC_true, RA_plan, DEC_plan) * u.deg).to('arcsec')\n",
    "print 'Offset: {0:.1f}'.format(offset)"
   ]
  },
  {
   "cell_type": "code",
   "execution_count": null,
   "metadata": {
    "collapsed": false
   },
   "outputs": [],
   "source": [
    "dq = q_plan.dq(q_true)\n",
    "print(dq.roll0 * 3600, dq.pitch * 3600, dq.yaw * 3600)"
   ]
  },
  {
   "cell_type": "code",
   "execution_count": null,
   "metadata": {
    "collapsed": true
   },
   "outputs": [],
   "source": []
  }
 ],
 "metadata": {
  "kernelspec": {
   "display_name": "Python 2",
   "language": "python",
   "name": "python2"
  },
  "language_info": {
   "codemirror_mode": {
    "name": "ipython",
    "version": 2
   },
   "file_extension": ".py",
   "mimetype": "text/x-python",
   "name": "python",
   "nbconvert_exporter": "python",
   "pygments_lexer": "ipython2",
   "version": "2.7.9"
  }
 },
 "nbformat": 4,
 "nbformat_minor": 0
}
